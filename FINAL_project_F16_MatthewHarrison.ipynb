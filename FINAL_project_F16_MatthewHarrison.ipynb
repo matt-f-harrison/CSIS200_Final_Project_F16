{
 "cells": [
  {
   "cell_type": "code",
   "execution_count": null,
   "metadata": {
    "collapsed": false
   },
   "outputs": [],
   "source": [
    "# Edit this cell to print out your name.\n",
    "print \"My name is %s\" % (\"Matthew Harrison\")"
   ]
  },
  {
   "cell_type": "markdown",
   "metadata": {},
   "source": [
    "# Predicting the weather\n",
    "\n",
    "***For all of the questions in this project, assume that 1 month = 30 days.***"
   ]
  },
  {
   "cell_type": "markdown",
   "metadata": {},
   "source": [
    "## Problem 1 (20 pts)\n",
    "\n",
    "Suppose there is a 20% chance it will rain on any given day in a month. What are the odds that that rains on one and only one day in a month. \n",
    "\n",
    "Work this problem out a*nalytically* (with pen and paper, using a formula) and write it up in your final document.\n",
    "\n",
    "Here you should solve the same problem *numerically* using a Monte Carlo approach, similar to how we approached the birthday problem in class. \n",
    "\n",
    "Make sure that both approaches give you a similar result. "
   ]
  },
  {
   "cell_type": "code",
   "execution_count": 178,
   "metadata": {
    "collapsed": false
   },
   "outputs": [
    {
     "name": "stdout",
     "output_type": "stream",
     "text": [
      "0.00928455029464\n",
      "0.00937200937201\n"
     ]
    }
   ],
   "source": [
    "# Your code here\n",
    "import numpy as np\n",
    "from matplotlib import pyplot as plt\n",
    "%matplotlib notebook\n",
    "p = 30*(0.2*0.8**29) #analytical approach\n",
    "print p\n",
    "    \n",
    "\n",
    "def rain(nm=1): \n",
    "    oneday = 0\n",
    "    for i in range(0,nm): #loop through the number of 'months'\n",
    "        rain = []\n",
    "        for x in range(0,30): #loop through the days in each of those months\n",
    "            if np.random.random() <= 0.2: #create a random decimal for each day in each month\n",
    "                                        # if that number is less than 0.2, it would rain on that day\n",
    "                rain.append(\"Rain!\") #append the amount of rainy days in the month to list rain\n",
    "        if len(rain) == 1: #if there is only one string in that list, it only rained one day,\n",
    "            #so add one to oneday, the tally of how many months had one single day of rain\n",
    "            oneday +=1\n",
    "    return float(oneday) #convert to float\n",
    "print rain(333333)/333333 #divide the value of oneday by the number of months for probability \n",
    "    \n",
    "\n"
   ]
  },
  {
   "cell_type": "markdown",
   "metadata": {},
   "source": [
    "## Problem 2 (20 pts)\n",
    "\n",
    "Suppose there is a 10% chance that it will rain on any given day in a month. What are the odds that it rains at least 8 days (in any order) that month?\n",
    "\n",
    "Work this problem out *numerically* using a Monte Carlo approach. "
   ]
  },
  {
   "cell_type": "code",
   "execution_count": 133,
   "metadata": {
    "collapsed": false
   },
   "outputs": [
    {
     "name": "stdout",
     "output_type": "stream",
     "text": [
      "0.00789300789301\n"
     ]
    }
   ],
   "source": [
    "# Your code here\n",
    "def rain8(nm=1):\n",
    "    atleast8 = 0\n",
    "    for i in range(0,nm): #loop through the number of 'months'\n",
    "        rain = []\n",
    "        for x in range(0,30): #loop through the days in each of those months\n",
    "            if np.random.random() <= 0.1: #create a random decimal for each day in each month\n",
    "# if that number is less than 0.1, it would rain on that day\n",
    "                rain.append(\"Rain!\") #append the amount of rainy days in the month to list rain\n",
    "        if (len(rain)) >= 8: #if \"Rain!\" appers 8 or more times, add one to atleast8  \n",
    "            atleast8 +=1\n",
    "\n",
    "    return float(atleast8) #convert to float\n",
    "print rain8(333333)/333333 #divide by number of months for probability"
   ]
  },
  {
   "cell_type": "markdown",
   "metadata": {},
   "source": [
    "## Problem 3 \n",
    "\n",
    "### 3a (20 pts)\n",
    "\n",
    "Suppose that if it rains one day, the odds of a certain amount of rainfall *on that day* are\n",
    "\n",
    "* 1 cm   20%\n",
    "* 2 cm   30%\n",
    "* 3 cm   30%\n",
    "* 4 cm   10%\n",
    "* 5 cm   10%\n",
    "\n",
    "However the odds of it raining are dependent on if it rained the day before.\n",
    "\n",
    "* If it is the first day of the month, there is a 10% chance of rain.\n",
    "* If it rained 1 day before, but not 2 days before, there is a 20% chance of rain. \n",
    "* If it rained both of the 2 days before, but not the 3rd day before, there is a 25% chance of rain.\n",
    "* If it rained for the 3 days (or more) before, there is a 5% chance of rain. \n",
    "* Otherwise, there is a 10% chance of rain\n",
    "\n",
    "What are the odds that there are at least 10 cm of rain in a given month?\n",
    "\n",
    "Work this problem out using a Monte Carlo approach. "
   ]
  },
  {
   "cell_type": "code",
   "execution_count": 134,
   "metadata": {
    "collapsed": false
   },
   "outputs": [
    {
     "name": "stdout",
     "output_type": "stream",
     "text": [
      "0.327258327258\n"
     ]
    }
   ],
   "source": [
    "# Your code here\n",
    "\n",
    "def tencmrain(nm=1):\n",
    "    import numpy as np\n",
    "    iften = 0 #how many months have >10 cm rain\n",
    "    for i in range(0,nm):\n",
    "        rtotal = 0 #total rain in a month\n",
    "        x = range(0,30)\n",
    "        \n",
    "        for n in x:\n",
    "            y = np.random.random()\n",
    "            if y <= 0.1: \n",
    "                if y <= 0.02: #break the decimal into smaller probs for the amount of rain on that day\n",
    "                    rtotal += 1\n",
    "                elif y > 0.02 and y <= 0.05:\n",
    "                    rtotal += 2\n",
    "                elif y > 0.05 and y <= 0.08:\n",
    "                    rtotal += 3\n",
    "                elif y > 0.08 and y <= 0.09:\n",
    "                    rtotal += 4\n",
    "                elif y > 0.09:\n",
    "                    rtotal += 5\n",
    "                continue #move to the next part of the loop, https://docs.python.org/3/tutorial/controlflow.html\n",
    "                        \n",
    "                if y <= 0.2: #probability of a second consecutive rainy day\n",
    "                    if y <= 0.04:\n",
    "                        rtotal += 1\n",
    "                    elif y > 0.04 and y <= 0.1:\n",
    "                        rtotal += 2\n",
    "                    elif y > 0.1 and y <= 0.16:\n",
    "                        rtotal += 3\n",
    "                    elif y > 0.16 and y <= 0.18:\n",
    "                        rtotal += 4\n",
    "                    elif y > 0.18:\n",
    "                        rtotal += 5\n",
    "                    continue\n",
    "                    \n",
    "                    if y <= 0.25:#third rainy day\n",
    "                        if y <= 0.05:\n",
    "                            rtotal += 1\n",
    "                        elif y > 0.05 and y <= 0.125:\n",
    "                            rtotal += 2\n",
    "                        elif y > 0.125 and y <= 0.2:\n",
    "                            rtotal += 3\n",
    "                        elif y > 0.2 and y <= 0.225:\n",
    "                            rtotal += 4\n",
    "                        elif y > 0.225:\n",
    "                            rtotal += 5\n",
    "                        continue \n",
    "                        \n",
    "                        for q in range(30-x[n], 30):\n",
    "                            if y <= 0.05:#fourth rainy day\n",
    "                                if y <= 0.01:\n",
    "                                    rtotal += 1\n",
    "                                elif y > 0.01 and y <= 0.025:\n",
    "                                    rtotal += 2\n",
    "                                elif y > 0.025 and y <= 0.04:\n",
    "                                    rtotal += 3\n",
    "                                elif y > 0.04 and y <= 0.045:\n",
    "                                    rtotal += 4\n",
    "                                elif y > 0.04:\n",
    "                                    rtotal += 5\n",
    "                            else:\n",
    "                                break # also found from https://docs.python.org/3/tutorial/controlflow.html\n",
    "                            \n",
    "        if rtotal >= 10:\n",
    "            iften += 1 #tally how many months had more than 10 cm of rain\n",
    "        \n",
    "    return float(iften) #convert to float\n",
    "                            \n",
    "print tencmrain(333333)/333333 #divide by the number of months for probability                    \n",
    "                \n",
    "                \n",
    "                "
   ]
  },
  {
   "cell_type": "markdown",
   "metadata": {},
   "source": [
    "### 3b (10 pts)\n",
    "\n",
    "Make a histogram of the distribtion of expected rainfall values. You can get this from your Monte Carlo trials. \n",
    "\n",
    "Make sure you label everything clearly. "
   ]
  },
  {
   "cell_type": "code",
   "execution_count": 177,
   "metadata": {
    "collapsed": false
   },
   "outputs": [
    {
     "name": "stdout",
     "output_type": "stream",
     "text": [
      "[3333, 25566, 35929, 24773, 8176, 8223]\n"
     ]
    }
   ],
   "source": []
  },
  {
   "cell_type": "code",
   "execution_count": null,
   "metadata": {
    "collapsed": false
   },
   "outputs": [],
   "source": []
  },
  {
   "cell_type": "markdown",
   "metadata": {},
   "source": [
    "### 3c (10 pts)\n",
    "\n",
    "What is the average amount of rain to fall in any given month? \n",
    "\n"
   ]
  },
  {
   "cell_type": "code",
   "execution_count": 183,
   "metadata": {
    "collapsed": false
   },
   "outputs": [],
   "source": [
    "# Your code here?\n",
    "\n"
   ]
  },
  {
   "cell_type": "markdown",
   "metadata": {},
   "source": [
    "### 3d (20)\n",
    "\n",
    "Once you find the average value, someone might ask you for the uncertainty (some people also refer to uncertainty as the \"*error*\") on your prediction. That can be tricky to calculate, so often what is given is just a *range* of possible values. \"We estimate the rainfall to be between X cm and Y cm.\" The question is, how to decide what that range is. \n",
    "\n",
    "The way this is often done is to find the middle 95% of the trial values (from your Monte Carlo run) and then use the low-edge and the high-edge of that range. If you're concerned about the middle 95%, then 2.5% of the values are below them and 2.5% of all the values are above them. The rainfall values at those edges are what you use for the ranges to quote. \n",
    "\n",
    "This is what people mean when they say, \"I'm 95% confident that the rainfall will be between X and Y\", and when you write it up for the LaTeX document, you should also quote it this way. \n",
    "\n",
    "*Hint!* This part becomes much easier if you sort all the values using any of the numpy/Python sort functions you can read about online. When you sort them, you should be able to find what rainfall is at the edge for the lower 2.5% and the higher 2.5%. "
   ]
  },
  {
   "cell_type": "code",
   "execution_count": null,
   "metadata": {
    "collapsed": false
   },
   "outputs": [],
   "source": [
    "# Your code here"
   ]
  }
 ],
 "metadata": {
  "anaconda-cloud": {},
  "kernelspec": {
   "display_name": "Python [Root]",
   "language": "python",
   "name": "Python [Root]"
  },
  "language_info": {
   "codemirror_mode": {
    "name": "ipython",
    "version": 2
   },
   "file_extension": ".py",
   "mimetype": "text/x-python",
   "name": "python",
   "nbconvert_exporter": "python",
   "pygments_lexer": "ipython2",
   "version": "2.7.12"
  }
 },
 "nbformat": 4,
 "nbformat_minor": 0
}
